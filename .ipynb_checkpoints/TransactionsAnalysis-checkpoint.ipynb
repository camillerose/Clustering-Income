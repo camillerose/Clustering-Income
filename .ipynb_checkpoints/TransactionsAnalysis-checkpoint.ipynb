{
 "cells": [
  {
   "cell_type": "code",
   "execution_count": 2,
   "metadata": {},
   "outputs": [],
   "source": [
    "# import necessary packages\n",
    "import pandas as pd\n",
    "import numpy as np\n",
    "import datetime as dt\n",
    "import matplotlib.pyplot as plt\n",
    "from matplotlib.pyplot import figure\n",
    "import os\n",
    "%matplotlib inline"
   ]
  },
  {
   "cell_type": "code",
   "execution_count": 3,
   "metadata": {},
   "outputs": [],
   "source": [
    "# change the directory to where the data files are stored\n",
    "path = \"./data/\"\n",
    "os.chdir(path)"
   ]
  },
  {
   "cell_type": "code",
   "execution_count": 4,
   "metadata": {},
   "outputs": [
    {
     "data": {
      "text/html": [
       "<div>\n",
       "<style scoped>\n",
       "    .dataframe tbody tr th:only-of-type {\n",
       "        vertical-align: middle;\n",
       "    }\n",
       "\n",
       "    .dataframe tbody tr th {\n",
       "        vertical-align: top;\n",
       "    }\n",
       "\n",
       "    .dataframe thead th {\n",
       "        text-align: right;\n",
       "    }\n",
       "</style>\n",
       "<table border=\"1\" class=\"dataframe\">\n",
       "  <thead>\n",
       "    <tr style=\"text-align: right;\">\n",
       "      <th></th>\n",
       "      <th>Date</th>\n",
       "      <th>Time</th>\n",
       "      <th>Amount</th>\n",
       "      <th>Type</th>\n",
       "      <th>Description</th>\n",
       "    </tr>\n",
       "  </thead>\n",
       "  <tbody>\n",
       "    <tr>\n",
       "      <th>0</th>\n",
       "      <td>2019-02-15</td>\n",
       "      <td>00:08:00</td>\n",
       "      <td>0.12</td>\n",
       "      <td>Deposit</td>\n",
       "      <td>Interest Paid</td>\n",
       "    </tr>\n",
       "    <tr>\n",
       "      <th>1</th>\n",
       "      <td>2019-02-05</td>\n",
       "      <td>05:17:51</td>\n",
       "      <td>27.00</td>\n",
       "      <td>Deposit</td>\n",
       "      <td>VENMO CASHOUT</td>\n",
       "    </tr>\n",
       "    <tr>\n",
       "      <th>2</th>\n",
       "      <td>2019-02-04</td>\n",
       "      <td>06:32:21</td>\n",
       "      <td>325.46</td>\n",
       "      <td>Deposit</td>\n",
       "      <td>PAYPAL TRANSFER</td>\n",
       "    </tr>\n",
       "    <tr>\n",
       "      <th>3</th>\n",
       "      <td>2019-02-04</td>\n",
       "      <td>05:13:50</td>\n",
       "      <td>-413.63</td>\n",
       "      <td>Withdrawal</td>\n",
       "      <td>CAPITAL ONE CRCARDPMT</td>\n",
       "    </tr>\n",
       "    <tr>\n",
       "      <th>4</th>\n",
       "      <td>2019-01-28</td>\n",
       "      <td>05:59:33</td>\n",
       "      <td>250.00</td>\n",
       "      <td>Deposit</td>\n",
       "      <td>VENMO CASHOUT</td>\n",
       "    </tr>\n",
       "  </tbody>\n",
       "</table>\n",
       "</div>"
      ],
      "text/plain": [
       "         Date      Time   Amount        Type            Description\n",
       "0  2019-02-15  00:08:00     0.12     Deposit          Interest Paid\n",
       "1  2019-02-05  05:17:51    27.00     Deposit          VENMO CASHOUT\n",
       "2  2019-02-04  06:32:21   325.46     Deposit        PAYPAL TRANSFER\n",
       "3  2019-02-04  05:13:50  -413.63  Withdrawal  CAPITAL ONE CRCARDPMT\n",
       "4  2019-01-28  05:59:33   250.00     Deposit          VENMO CASHOUT"
      ]
     },
     "execution_count": 4,
     "metadata": {},
     "output_type": "execute_result"
    }
   ],
   "source": [
    "checking = pd.read_csv(\"checking.csv\")\n",
    "checking.head()"
   ]
  },
  {
   "cell_type": "code",
   "execution_count": 270,
   "metadata": {},
   "outputs": [
    {
     "data": {
      "text/html": [
       "<div>\n",
       "<style scoped>\n",
       "    .dataframe tbody tr th:only-of-type {\n",
       "        vertical-align: middle;\n",
       "    }\n",
       "\n",
       "    .dataframe tbody tr th {\n",
       "        vertical-align: top;\n",
       "    }\n",
       "\n",
       "    .dataframe thead th {\n",
       "        text-align: right;\n",
       "    }\n",
       "</style>\n",
       "<table border=\"1\" class=\"dataframe\">\n",
       "  <thead>\n",
       "    <tr style=\"text-align: right;\">\n",
       "      <th></th>\n",
       "      <th>Date</th>\n",
       "      <th>Time</th>\n",
       "      <th>Amount</th>\n",
       "      <th>Type</th>\n",
       "      <th>Description</th>\n",
       "    </tr>\n",
       "  </thead>\n",
       "  <tbody>\n",
       "    <tr>\n",
       "      <th>0</th>\n",
       "      <td>2019-02-15</td>\n",
       "      <td>00:12:02</td>\n",
       "      <td>31.57</td>\n",
       "      <td>Deposit</td>\n",
       "      <td>Interest Paid</td>\n",
       "    </tr>\n",
       "    <tr>\n",
       "      <th>1</th>\n",
       "      <td>2019-01-15</td>\n",
       "      <td>00:54:18</td>\n",
       "      <td>30.70</td>\n",
       "      <td>Deposit</td>\n",
       "      <td>Interest Paid</td>\n",
       "    </tr>\n",
       "    <tr>\n",
       "      <th>2</th>\n",
       "      <td>2019-01-03</td>\n",
       "      <td>17:02:13</td>\n",
       "      <td>-2000.00</td>\n",
       "      <td>Withdrawal</td>\n",
       "      <td>Internet transfer to Interest Checking account...</td>\n",
       "    </tr>\n",
       "    <tr>\n",
       "      <th>3</th>\n",
       "      <td>2018-12-21</td>\n",
       "      <td>00:05:31</td>\n",
       "      <td>70.55</td>\n",
       "      <td>Deposit</td>\n",
       "      <td>eCheck Deposit</td>\n",
       "    </tr>\n",
       "    <tr>\n",
       "      <th>4</th>\n",
       "      <td>2018-12-15</td>\n",
       "      <td>00:32:54</td>\n",
       "      <td>31.33</td>\n",
       "      <td>Deposit</td>\n",
       "      <td>Interest Paid</td>\n",
       "    </tr>\n",
       "  </tbody>\n",
       "</table>\n",
       "</div>"
      ],
      "text/plain": [
       "         Date      Time   Amount        Type  \\\n",
       "0  2019-02-15  00:12:02    31.57     Deposit   \n",
       "1  2019-01-15  00:54:18    30.70     Deposit   \n",
       "2  2019-01-03  17:02:13 -2000.00  Withdrawal   \n",
       "3  2018-12-21  00:05:31    70.55     Deposit   \n",
       "4  2018-12-15  00:32:54    31.33     Deposit   \n",
       "\n",
       "                                         Description  \n",
       "0                                      Interest Paid  \n",
       "1                                      Interest Paid  \n",
       "2  Internet transfer to Interest Checking account...  \n",
       "3                                     eCheck Deposit  \n",
       "4                                      Interest Paid  "
      ]
     },
     "execution_count": 270,
     "metadata": {},
     "output_type": "execute_result"
    }
   ],
   "source": [
    "savings = pd.read_csv(\"savings.csv\")\n",
    "savings.head()"
   ]
  },
  {
   "cell_type": "code",
   "execution_count": 271,
   "metadata": {},
   "outputs": [
    {
     "data": {
      "text/plain": [
       "Index(['Date', ' Time', ' Amount', ' Type', ' Description'], dtype='object')"
      ]
     },
     "execution_count": 271,
     "metadata": {},
     "output_type": "execute_result"
    }
   ],
   "source": [
    "# there are hidden white spaces in some of the column names\n",
    "checking.columns"
   ]
  },
  {
   "cell_type": "code",
   "execution_count": 272,
   "metadata": {},
   "outputs": [
    {
     "data": {
      "text/plain": [
       "Index(['Date', 'Time', 'Amount', 'Type', 'Description'], dtype='object')"
      ]
     },
     "execution_count": 272,
     "metadata": {},
     "output_type": "execute_result"
    }
   ],
   "source": [
    "# rename columns to get rid of white spaces\n",
    "checking = checking.rename(columns={\" Time\": \"Time\", \" Amount\": \"Amount\", \" Type\": \"Type\", \n",
    "                      \" Description\": \"Description\"})\n",
    "checking.columns"
   ]
  },
  {
   "cell_type": "code",
   "execution_count": 273,
   "metadata": {},
   "outputs": [
    {
     "data": {
      "text/plain": [
       "Index(['Date', ' Time', ' Amount', ' Type', ' Description'], dtype='object')"
      ]
     },
     "execution_count": 273,
     "metadata": {},
     "output_type": "execute_result"
    }
   ],
   "source": [
    "savings.columns"
   ]
  },
  {
   "cell_type": "code",
   "execution_count": 274,
   "metadata": {},
   "outputs": [
    {
     "data": {
      "text/plain": [
       "Index(['Date', 'Time', 'Amount', 'Type', 'Description'], dtype='object')"
      ]
     },
     "execution_count": 274,
     "metadata": {},
     "output_type": "execute_result"
    }
   ],
   "source": [
    "# rename columns to get rid of white spaces\n",
    "savings = savings.rename(columns={\" Time\": \"Time\", \" Amount\": \"Amount\", \" Type\": \"Type\", \n",
    "                      \" Description\": \"Description\"})\n",
    "savings.columns"
   ]
  },
  {
   "cell_type": "code",
   "execution_count": 275,
   "metadata": {},
   "outputs": [
    {
     "name": "stdout",
     "output_type": "stream",
     "text": [
      "Checking shape (92, 5)\n",
      "Savings shape (92, 5)\n"
     ]
    }
   ],
   "source": [
    "# grab deposits only (withdrawals tell us nothing about income)\n",
    "checking_dep = checking[checking[\"Type\"] == \"Deposit\"]\n",
    "print(\"Checking shape\", checking_dep.shape)\n",
    "\n",
    "savings_dep = savings[savings[\"Type\"] == \"Deposit\"]\n",
    "print(\"Savings shape\", checking_dep.shape)"
   ]
  },
  {
   "cell_type": "markdown",
   "metadata": {},
   "source": [
    "Desposits from Oct. 2017 to Mar. 2019. Only 92 deposits, so we are likely to see sparse data for users as well."
   ]
  },
  {
   "cell_type": "code",
   "execution_count": 276,
   "metadata": {},
   "outputs": [
    {
     "data": {
      "text/html": [
       "<div>\n",
       "<style scoped>\n",
       "    .dataframe tbody tr th:only-of-type {\n",
       "        vertical-align: middle;\n",
       "    }\n",
       "\n",
       "    .dataframe tbody tr th {\n",
       "        vertical-align: top;\n",
       "    }\n",
       "\n",
       "    .dataframe thead th {\n",
       "        text-align: right;\n",
       "    }\n",
       "</style>\n",
       "<table border=\"1\" class=\"dataframe\">\n",
       "  <thead>\n",
       "    <tr style=\"text-align: right;\">\n",
       "      <th></th>\n",
       "      <th>Date</th>\n",
       "      <th>Time</th>\n",
       "      <th>Amount</th>\n",
       "      <th>Type</th>\n",
       "      <th>Description</th>\n",
       "    </tr>\n",
       "  </thead>\n",
       "  <tbody>\n",
       "    <tr>\n",
       "      <th>count</th>\n",
       "      <td>92</td>\n",
       "      <td>92</td>\n",
       "      <td>92.000000</td>\n",
       "      <td>92</td>\n",
       "      <td>92</td>\n",
       "    </tr>\n",
       "    <tr>\n",
       "      <th>unique</th>\n",
       "      <td>74</td>\n",
       "      <td>89</td>\n",
       "      <td>NaN</td>\n",
       "      <td>1</td>\n",
       "      <td>29</td>\n",
       "    </tr>\n",
       "    <tr>\n",
       "      <th>top</th>\n",
       "      <td>2017-11-03</td>\n",
       "      <td>04:00:36</td>\n",
       "      <td>NaN</td>\n",
       "      <td>Deposit</td>\n",
       "      <td>PAYPAL TRANSFER</td>\n",
       "    </tr>\n",
       "    <tr>\n",
       "      <th>freq</th>\n",
       "      <td>3</td>\n",
       "      <td>2</td>\n",
       "      <td>NaN</td>\n",
       "      <td>92</td>\n",
       "      <td>19</td>\n",
       "    </tr>\n",
       "    <tr>\n",
       "      <th>mean</th>\n",
       "      <td>NaN</td>\n",
       "      <td>NaN</td>\n",
       "      <td>493.905978</td>\n",
       "      <td>NaN</td>\n",
       "      <td>NaN</td>\n",
       "    </tr>\n",
       "    <tr>\n",
       "      <th>std</th>\n",
       "      <td>NaN</td>\n",
       "      <td>NaN</td>\n",
       "      <td>771.481551</td>\n",
       "      <td>NaN</td>\n",
       "      <td>NaN</td>\n",
       "    </tr>\n",
       "    <tr>\n",
       "      <th>min</th>\n",
       "      <td>NaN</td>\n",
       "      <td>NaN</td>\n",
       "      <td>0.050000</td>\n",
       "      <td>NaN</td>\n",
       "      <td>NaN</td>\n",
       "    </tr>\n",
       "    <tr>\n",
       "      <th>25%</th>\n",
       "      <td>NaN</td>\n",
       "      <td>NaN</td>\n",
       "      <td>1.977500</td>\n",
       "      <td>NaN</td>\n",
       "      <td>NaN</td>\n",
       "    </tr>\n",
       "    <tr>\n",
       "      <th>50%</th>\n",
       "      <td>NaN</td>\n",
       "      <td>NaN</td>\n",
       "      <td>95.000000</td>\n",
       "      <td>NaN</td>\n",
       "      <td>NaN</td>\n",
       "    </tr>\n",
       "    <tr>\n",
       "      <th>75%</th>\n",
       "      <td>NaN</td>\n",
       "      <td>NaN</td>\n",
       "      <td>504.250000</td>\n",
       "      <td>NaN</td>\n",
       "      <td>NaN</td>\n",
       "    </tr>\n",
       "    <tr>\n",
       "      <th>max</th>\n",
       "      <td>NaN</td>\n",
       "      <td>NaN</td>\n",
       "      <td>4000.000000</td>\n",
       "      <td>NaN</td>\n",
       "      <td>NaN</td>\n",
       "    </tr>\n",
       "  </tbody>\n",
       "</table>\n",
       "</div>"
      ],
      "text/plain": [
       "              Date      Time       Amount     Type      Description\n",
       "count           92        92    92.000000       92               92\n",
       "unique          74        89          NaN        1               29\n",
       "top     2017-11-03  04:00:36          NaN  Deposit  PAYPAL TRANSFER\n",
       "freq             3         2          NaN       92               19\n",
       "mean           NaN       NaN   493.905978      NaN              NaN\n",
       "std            NaN       NaN   771.481551      NaN              NaN\n",
       "min            NaN       NaN     0.050000      NaN              NaN\n",
       "25%            NaN       NaN     1.977500      NaN              NaN\n",
       "50%            NaN       NaN    95.000000      NaN              NaN\n",
       "75%            NaN       NaN   504.250000      NaN              NaN\n",
       "max            NaN       NaN  4000.000000      NaN              NaN"
      ]
     },
     "execution_count": 276,
     "metadata": {},
     "output_type": "execute_result"
    }
   ],
   "source": [
    "checking_dep.describe(include=\"all\")"
   ]
  },
  {
   "cell_type": "markdown",
   "metadata": {},
   "source": [
    "The mean deposit is 493.90 with a standard deviation of 771.48. <br>\n",
    "There were only 29 unique sources of deposits - so most were recurring."
   ]
  },
  {
   "cell_type": "code",
   "execution_count": 277,
   "metadata": {},
   "outputs": [
    {
     "data": {
      "text/html": [
       "<div>\n",
       "<style scoped>\n",
       "    .dataframe tbody tr th:only-of-type {\n",
       "        vertical-align: middle;\n",
       "    }\n",
       "\n",
       "    .dataframe tbody tr th {\n",
       "        vertical-align: top;\n",
       "    }\n",
       "\n",
       "    .dataframe thead th {\n",
       "        text-align: right;\n",
       "    }\n",
       "</style>\n",
       "<table border=\"1\" class=\"dataframe\">\n",
       "  <thead>\n",
       "    <tr style=\"text-align: right;\">\n",
       "      <th></th>\n",
       "      <th>Date</th>\n",
       "      <th>Time</th>\n",
       "      <th>Amount</th>\n",
       "      <th>Type</th>\n",
       "      <th>Description</th>\n",
       "    </tr>\n",
       "  </thead>\n",
       "  <tbody>\n",
       "    <tr>\n",
       "      <th>count</th>\n",
       "      <td>43</td>\n",
       "      <td>43</td>\n",
       "      <td>43.000000</td>\n",
       "      <td>43</td>\n",
       "      <td>43</td>\n",
       "    </tr>\n",
       "    <tr>\n",
       "      <th>unique</th>\n",
       "      <td>40</td>\n",
       "      <td>41</td>\n",
       "      <td>NaN</td>\n",
       "      <td>1</td>\n",
       "      <td>12</td>\n",
       "    </tr>\n",
       "    <tr>\n",
       "      <th>top</th>\n",
       "      <td>2018-09-11</td>\n",
       "      <td>05:38:04</td>\n",
       "      <td>NaN</td>\n",
       "      <td>Deposit</td>\n",
       "      <td>Interest Paid</td>\n",
       "    </tr>\n",
       "    <tr>\n",
       "      <th>freq</th>\n",
       "      <td>2</td>\n",
       "      <td>2</td>\n",
       "      <td>NaN</td>\n",
       "      <td>43</td>\n",
       "      <td>17</td>\n",
       "    </tr>\n",
       "    <tr>\n",
       "      <th>mean</th>\n",
       "      <td>NaN</td>\n",
       "      <td>NaN</td>\n",
       "      <td>758.050930</td>\n",
       "      <td>NaN</td>\n",
       "      <td>NaN</td>\n",
       "    </tr>\n",
       "    <tr>\n",
       "      <th>std</th>\n",
       "      <td>NaN</td>\n",
       "      <td>NaN</td>\n",
       "      <td>2329.929828</td>\n",
       "      <td>NaN</td>\n",
       "      <td>NaN</td>\n",
       "    </tr>\n",
       "    <tr>\n",
       "      <th>min</th>\n",
       "      <td>NaN</td>\n",
       "      <td>NaN</td>\n",
       "      <td>0.010000</td>\n",
       "      <td>NaN</td>\n",
       "      <td>NaN</td>\n",
       "    </tr>\n",
       "    <tr>\n",
       "      <th>25%</th>\n",
       "      <td>NaN</td>\n",
       "      <td>NaN</td>\n",
       "      <td>32.170000</td>\n",
       "      <td>NaN</td>\n",
       "      <td>NaN</td>\n",
       "    </tr>\n",
       "    <tr>\n",
       "      <th>50%</th>\n",
       "      <td>NaN</td>\n",
       "      <td>NaN</td>\n",
       "      <td>48.300000</td>\n",
       "      <td>NaN</td>\n",
       "      <td>NaN</td>\n",
       "    </tr>\n",
       "    <tr>\n",
       "      <th>75%</th>\n",
       "      <td>NaN</td>\n",
       "      <td>NaN</td>\n",
       "      <td>526.060000</td>\n",
       "      <td>NaN</td>\n",
       "      <td>NaN</td>\n",
       "    </tr>\n",
       "    <tr>\n",
       "      <th>max</th>\n",
       "      <td>NaN</td>\n",
       "      <td>NaN</td>\n",
       "      <td>15000.000000</td>\n",
       "      <td>NaN</td>\n",
       "      <td>NaN</td>\n",
       "    </tr>\n",
       "  </tbody>\n",
       "</table>\n",
       "</div>"
      ],
      "text/plain": [
       "              Date      Time        Amount     Type    Description\n",
       "count           43        43     43.000000       43             43\n",
       "unique          40        41           NaN        1             12\n",
       "top     2018-09-11  05:38:04           NaN  Deposit  Interest Paid\n",
       "freq             2         2           NaN       43             17\n",
       "mean           NaN       NaN    758.050930      NaN            NaN\n",
       "std            NaN       NaN   2329.929828      NaN            NaN\n",
       "min            NaN       NaN      0.010000      NaN            NaN\n",
       "25%            NaN       NaN     32.170000      NaN            NaN\n",
       "50%            NaN       NaN     48.300000      NaN            NaN\n",
       "75%            NaN       NaN    526.060000      NaN            NaN\n",
       "max            NaN       NaN  15000.000000      NaN            NaN"
      ]
     },
     "execution_count": 277,
     "metadata": {},
     "output_type": "execute_result"
    }
   ],
   "source": [
    "savings_dep.describe(include=\"all\")"
   ]
  },
  {
   "cell_type": "markdown",
   "metadata": {},
   "source": [
    "The mean amount deposited into savings was 758 with a large standard deviation of 2329. <br>\n",
    "Savings deposits came from 12 unique sources."
   ]
  },
  {
   "cell_type": "code",
   "execution_count": 278,
   "metadata": {},
   "outputs": [
    {
     "data": {
      "image/png": "[encoded data removed]",
      "text/plain": [
       "<Figure size 432x288 with 1 Axes>"
      ]
     },
     "metadata": {
      "needs_background": "light"
     },
     "output_type": "display_data"
    }
   ],
   "source": [
    "checking_dep.Amount.hist();\n",
    "plt.grid(False);\n",
    "plt.title(\"Count of deposit values from checking\");\n",
    "plt.xlabel(\"Deposit amount ($)\",labelpad=10);\n",
    "plt.ylabel(\"Count\",labelpad=10);"
   ]
  },
  {
   "cell_type": "code",
   "execution_count": 279,
   "metadata": {},
   "outputs": [
    {
     "data": {
      "image/png": "[encoded data removed]",
      "text/plain": [
       "<Figure size 432x288 with 1 Axes>"
      ]
     },
     "metadata": {
      "needs_background": "light"
     },
     "output_type": "display_data"
    }
   ],
   "source": [
    "savings_dep.Amount.hist();\n",
    "plt.grid(False);\n",
    "plt.title(\"Count of deposit values from savings\");\n",
    "plt.xlabel(\"Deposit amount ($)\",labelpad=10);\n",
    "plt.ylabel(\"Count\",labelpad=10);"
   ]
  },
  {
   "cell_type": "code",
   "execution_count": 280,
   "metadata": {},
   "outputs": [
    {
     "data": {
      "image/png": "[encoded data removed]",
      "text/plain": [
       "<Figure size 720x360 with 1 Axes>"
      ]
     },
     "metadata": {
      "needs_background": "light"
     },
     "output_type": "display_data"
    }
   ],
   "source": [
    "# Let’s look at the average deposit for each source\n",
    "source = checking_dep.groupby(\"Description\")[\"Amount\"].mean().reset_index() #.plot(kind=\"bar\",figsize=(10,5))\n",
    "source = source.sort_values(\"Amount\", ascending=False);\n",
    "figure(figsize=(10, 5))\n",
    "plt.bar(\"Description\",\"Amount\",data=source);\n",
    "plt.xticks(rotation=90);\n",
    "plt.ylabel(\"Average amount deposited for each source\");"
   ]
  },
  {
   "cell_type": "code",
   "execution_count": 281,
   "metadata": {},
   "outputs": [
    {
     "data": {
      "image/png": "[encoded data removed]",
      "text/plain": [
       "<Figure size 720x360 with 1 Axes>"
      ]
     },
     "metadata": {
      "needs_background": "light"
     },
     "output_type": "display_data"
    }
   ],
   "source": [
    "# Let’s look at the average deposit for each source\n",
    "source = savings_dep.groupby(\"Description\")[\"Amount\"].mean().reset_index() #.plot(kind=\"bar\",figsize=(10,5))\n",
    "source = source.sort_values(\"Amount\", ascending=False);\n",
    "figure(figsize=(10, 5))\n",
    "plt.bar(\"Description\",\"Amount\",data=source);\n",
    "plt.xticks(rotation=90);\n",
    "plt.ylabel(\"Average amount deposited for each source\");"
   ]
  },
  {
   "cell_type": "markdown",
   "metadata": {},
   "source": [
    "### Feature Engineering"
   ]
  },
  {
   "cell_type": "code",
   "execution_count": 282,
   "metadata": {},
   "outputs": [
    {
     "data": {
      "text/html": [
       "<div>\n",
       "<style scoped>\n",
       "    .dataframe tbody tr th:only-of-type {\n",
       "        vertical-align: middle;\n",
       "    }\n",
       "\n",
       "    .dataframe tbody tr th {\n",
       "        vertical-align: top;\n",
       "    }\n",
       "\n",
       "    .dataframe thead th {\n",
       "        text-align: right;\n",
       "    }\n",
       "</style>\n",
       "<table border=\"1\" class=\"dataframe\">\n",
       "  <thead>\n",
       "    <tr style=\"text-align: right;\">\n",
       "      <th></th>\n",
       "      <th>Date</th>\n",
       "      <th>Time</th>\n",
       "      <th>Amount</th>\n",
       "      <th>Type</th>\n",
       "      <th>Description</th>\n",
       "    </tr>\n",
       "  </thead>\n",
       "  <tbody>\n",
       "    <tr>\n",
       "      <th>0</th>\n",
       "      <td>2019-02-15</td>\n",
       "      <td>00:08:00</td>\n",
       "      <td>0.12</td>\n",
       "      <td>Deposit</td>\n",
       "      <td>Interest Paid</td>\n",
       "    </tr>\n",
       "    <tr>\n",
       "      <th>1</th>\n",
       "      <td>2019-02-05</td>\n",
       "      <td>05:17:51</td>\n",
       "      <td>27.00</td>\n",
       "      <td>Deposit</td>\n",
       "      <td>VENMO CASHOUT</td>\n",
       "    </tr>\n",
       "    <tr>\n",
       "      <th>2</th>\n",
       "      <td>2019-02-04</td>\n",
       "      <td>06:32:21</td>\n",
       "      <td>325.46</td>\n",
       "      <td>Deposit</td>\n",
       "      <td>PAYPAL TRANSFER</td>\n",
       "    </tr>\n",
       "    <tr>\n",
       "      <th>3</th>\n",
       "      <td>2019-01-28</td>\n",
       "      <td>05:59:33</td>\n",
       "      <td>250.00</td>\n",
       "      <td>Deposit</td>\n",
       "      <td>VENMO CASHOUT</td>\n",
       "    </tr>\n",
       "    <tr>\n",
       "      <th>4</th>\n",
       "      <td>2019-01-15</td>\n",
       "      <td>00:51:30</td>\n",
       "      <td>0.08</td>\n",
       "      <td>Deposit</td>\n",
       "      <td>Interest Paid</td>\n",
       "    </tr>\n",
       "  </tbody>\n",
       "</table>\n",
       "</div>"
      ],
      "text/plain": [
       "         Date      Time  Amount     Type      Description\n",
       "0  2019-02-15  00:08:00    0.12  Deposit    Interest Paid\n",
       "1  2019-02-05  05:17:51   27.00  Deposit    VENMO CASHOUT\n",
       "2  2019-02-04  06:32:21  325.46  Deposit  PAYPAL TRANSFER\n",
       "3  2019-01-28  05:59:33  250.00  Deposit    VENMO CASHOUT\n",
       "4  2019-01-15  00:51:30    0.08  Deposit    Interest Paid"
      ]
     },
     "execution_count": 282,
     "metadata": {},
     "output_type": "execute_result"
    }
   ],
   "source": [
    "# let’s stack the data frames and start creating features\n",
    "all_deposits = pd.concat([checking_dep,savings_dep],ignore_index=True)\n",
    "all_deposits.head()"
   ]
  },
  {
   "cell_type": "markdown",
   "metadata": {},
   "source": [
    "If the amount ends in 0, unlikely to be from job. This may not always be true. "
   ]
  },
  {
   "cell_type": "code",
   "execution_count": 283,
   "metadata": {},
   "outputs": [],
   "source": [
    "# function to determine if Amount is whole number \n",
    "def isWholeNumber(x):\n",
    "    if x.is_integer():\n",
    "        return \"1\"\n",
    "    if not x.is_integer():\n",
    "        return \"0\""
   ]
  },
  {
   "cell_type": "code",
   "execution_count": 284,
   "metadata": {},
   "outputs": [],
   "source": [
    "all_deposits[\"Whole_number\"] = all_deposits[\"Amount\"].apply(isWholeNumber)"
   ]
  },
  {
   "cell_type": "code",
   "execution_count": 285,
   "metadata": {},
   "outputs": [
    {
     "data": {
      "text/html": [
       "<div>\n",
       "<style scoped>\n",
       "    .dataframe tbody tr th:only-of-type {\n",
       "        vertical-align: middle;\n",
       "    }\n",
       "\n",
       "    .dataframe tbody tr th {\n",
       "        vertical-align: top;\n",
       "    }\n",
       "\n",
       "    .dataframe thead th {\n",
       "        text-align: right;\n",
       "    }\n",
       "</style>\n",
       "<table border=\"1\" class=\"dataframe\">\n",
       "  <thead>\n",
       "    <tr style=\"text-align: right;\">\n",
       "      <th></th>\n",
       "      <th>Date</th>\n",
       "      <th>Time</th>\n",
       "      <th>Amount</th>\n",
       "      <th>Type</th>\n",
       "      <th>Description</th>\n",
       "      <th>Whole_number</th>\n",
       "    </tr>\n",
       "  </thead>\n",
       "  <tbody>\n",
       "    <tr>\n",
       "      <th>0</th>\n",
       "      <td>2019-02-15</td>\n",
       "      <td>00:08:00</td>\n",
       "      <td>0.12</td>\n",
       "      <td>Deposit</td>\n",
       "      <td>Interest Paid</td>\n",
       "      <td>0</td>\n",
       "    </tr>\n",
       "    <tr>\n",
       "      <th>1</th>\n",
       "      <td>2019-02-05</td>\n",
       "      <td>05:17:51</td>\n",
       "      <td>27.00</td>\n",
       "      <td>Deposit</td>\n",
       "      <td>VENMO CASHOUT</td>\n",
       "      <td>1</td>\n",
       "    </tr>\n",
       "    <tr>\n",
       "      <th>2</th>\n",
       "      <td>2019-02-04</td>\n",
       "      <td>06:32:21</td>\n",
       "      <td>325.46</td>\n",
       "      <td>Deposit</td>\n",
       "      <td>PAYPAL TRANSFER</td>\n",
       "      <td>0</td>\n",
       "    </tr>\n",
       "    <tr>\n",
       "      <th>3</th>\n",
       "      <td>2019-01-28</td>\n",
       "      <td>05:59:33</td>\n",
       "      <td>250.00</td>\n",
       "      <td>Deposit</td>\n",
       "      <td>VENMO CASHOUT</td>\n",
       "      <td>1</td>\n",
       "    </tr>\n",
       "    <tr>\n",
       "      <th>4</th>\n",
       "      <td>2019-01-15</td>\n",
       "      <td>00:51:30</td>\n",
       "      <td>0.08</td>\n",
       "      <td>Deposit</td>\n",
       "      <td>Interest Paid</td>\n",
       "      <td>0</td>\n",
       "    </tr>\n",
       "  </tbody>\n",
       "</table>\n",
       "</div>"
      ],
      "text/plain": [
       "         Date      Time  Amount     Type      Description Whole_number\n",
       "0  2019-02-15  00:08:00    0.12  Deposit    Interest Paid            0\n",
       "1  2019-02-05  05:17:51   27.00  Deposit    VENMO CASHOUT            1\n",
       "2  2019-02-04  06:32:21  325.46  Deposit  PAYPAL TRANSFER            0\n",
       "3  2019-01-28  05:59:33  250.00  Deposit    VENMO CASHOUT            1\n",
       "4  2019-01-15  00:51:30    0.08  Deposit    Interest Paid            0"
      ]
     },
     "execution_count": 285,
     "metadata": {},
     "output_type": "execute_result"
    }
   ],
   "source": [
    "all_deposits.head()"
   ]
  },
  {
   "cell_type": "markdown",
   "metadata": {},
   "source": [
    "Pay likely falls on certain days of the month, so let’s create a feature to encapsulate day."
   ]
  },
  {
   "cell_type": "code",
   "execution_count": 286,
   "metadata": {},
   "outputs": [],
   "source": [
    "# convert Date to datetime object \n",
    "all_deposits[\"Date\"] = pd.to_datetime(all_deposits.Date)"
   ]
  },
  {
   "cell_type": "code",
   "execution_count": 290,
   "metadata": {},
   "outputs": [],
   "source": [
    "# function to extract day of month from datetime object\n",
    "all_deposits[\"Day_of_month\"] = all_deposits.Date.apply(lambda x: x.day)\n",
    "\n",
    "# function to extract day of week from datetime object\n",
    "all_deposits[\"Day_of_week\"] = all_deposits.Date.apply(lambda x: x.weekday())"
   ]
  },
  {
   "cell_type": "code",
   "execution_count": 291,
   "metadata": {},
   "outputs": [
    {
     "data": {
      "image/png": "[encoded data removed]",
      "text/plain": [
       "<Figure size 432x288 with 1 Axes>"
      ]
     },
     "metadata": {
      "needs_background": "light"
     },
     "output_type": "display_data"
    }
   ],
   "source": [
    "# deposits from income will likely have more regularity in \n",
    "all_deposits.Day_of_month.hist();\n",
    "plt.grid(False);\n",
    "plt.title(\"Number of deposits for each day of month\");\n",
    "plt.xlabel(\"Day of month\",labelpad=10);\n",
    "plt.ylabel(\"Count\",labelpad=10);"
   ]
  },
  {
   "cell_type": "markdown",
   "metadata": {},
   "source": [
    "There is a pretty striking pattern here - most deposits were made on the 1st or the 15th of the month. I know I got paid on these days, but we might assume others would be on a similar schedule (for some models of employment)."
   ]
  },
  {
   "cell_type": "code",
   "execution_count": 292,
   "metadata": {},
   "outputs": [
    {
     "data": {
      "image/png": "[encoded data removed]",
      "text/plain": [
       "<Figure size 432x288 with 1 Axes>"
      ]
     },
     "metadata": {
      "needs_background": "light"
     },
     "output_type": "display_data"
    }
   ],
   "source": [
    "# deposits from income will likely have more regularity in \n",
    "all_deposits.Day_of_week.hist();\n",
    "plt.grid(False);\n",
    "plt.title(\"Number of deposits for each day of week\");\n",
    "plt.xlabel(\"Day of week\",labelpad=10);\n",
    "plt.ylabel(\"Count\",labelpad=10);"
   ]
  },
  {
   "cell_type": "markdown",
   "metadata": {},
   "source": [
    "There’s not as clear of a pattern here, but most deposits were made on Monday, Tuesday, and Friday. "
   ]
  },
  {
   "cell_type": "markdown",
   "metadata": {},
   "source": [
    "Now, what can we do about the descriptors? All of my paychecks from Cardionet are grouped separately, because of the way the descriptor was named. It would be best to vectorize these and group based on vector similarity. Before I go down this route, let’s just try k-means out with just using the first two two words of the descriptor. This is probably enough, but it may not be scalable to other financial institutions."
   ]
  },
  {
   "cell_type": "code",
   "execution_count": 304,
   "metadata": {},
   "outputs": [],
   "source": [
    "def getFirstTwoWords(x):\n",
    "  \n",
    "    words = x.split(' ')\n",
    "    a = words[0]\n",
    "    \n",
    "    return a"
   ]
  },
  {
   "cell_type": "code",
   "execution_count": 305,
   "metadata": {},
   "outputs": [],
   "source": [
    "all_deposits['Short_Description'] = all_deposits.Description.apply(getFirstTwoWords)"
   ]
  },
  {
   "cell_type": "code",
   "execution_count": 306,
   "metadata": {},
   "outputs": [
    {
     "data": {
      "text/html": [
       "<div>\n",
       "<style scoped>\n",
       "    .dataframe tbody tr th:only-of-type {\n",
       "        vertical-align: middle;\n",
       "    }\n",
       "\n",
       "    .dataframe tbody tr th {\n",
       "        vertical-align: top;\n",
       "    }\n",
       "\n",
       "    .dataframe thead th {\n",
       "        text-align: right;\n",
       "    }\n",
       "</style>\n",
       "<table border=\"1\" class=\"dataframe\">\n",
       "  <thead>\n",
       "    <tr style=\"text-align: right;\">\n",
       "      <th></th>\n",
       "      <th>Date</th>\n",
       "      <th>Time</th>\n",
       "      <th>Amount</th>\n",
       "      <th>Type</th>\n",
       "      <th>Description</th>\n",
       "      <th>Whole_number</th>\n",
       "      <th>Day_of_month</th>\n",
       "      <th>Day_of_week</th>\n",
       "      <th>Short_Description</th>\n",
       "    </tr>\n",
       "  </thead>\n",
       "  <tbody>\n",
       "    <tr>\n",
       "      <th>0</th>\n",
       "      <td>2019-02-15</td>\n",
       "      <td>00:08:00</td>\n",
       "      <td>0.12</td>\n",
       "      <td>Deposit</td>\n",
       "      <td>Interest Paid</td>\n",
       "      <td>0</td>\n",
       "      <td>15</td>\n",
       "      <td>4</td>\n",
       "      <td>Interest</td>\n",
       "    </tr>\n",
       "    <tr>\n",
       "      <th>1</th>\n",
       "      <td>2019-02-05</td>\n",
       "      <td>05:17:51</td>\n",
       "      <td>27.00</td>\n",
       "      <td>Deposit</td>\n",
       "      <td>VENMO CASHOUT</td>\n",
       "      <td>1</td>\n",
       "      <td>5</td>\n",
       "      <td>1</td>\n",
       "      <td>VENMO</td>\n",
       "    </tr>\n",
       "    <tr>\n",
       "      <th>2</th>\n",
       "      <td>2019-02-04</td>\n",
       "      <td>06:32:21</td>\n",
       "      <td>325.46</td>\n",
       "      <td>Deposit</td>\n",
       "      <td>PAYPAL TRANSFER</td>\n",
       "      <td>0</td>\n",
       "      <td>4</td>\n",
       "      <td>0</td>\n",
       "      <td>PAYPAL</td>\n",
       "    </tr>\n",
       "    <tr>\n",
       "      <th>3</th>\n",
       "      <td>2019-01-28</td>\n",
       "      <td>05:59:33</td>\n",
       "      <td>250.00</td>\n",
       "      <td>Deposit</td>\n",
       "      <td>VENMO CASHOUT</td>\n",
       "      <td>1</td>\n",
       "      <td>28</td>\n",
       "      <td>0</td>\n",
       "      <td>VENMO</td>\n",
       "    </tr>\n",
       "    <tr>\n",
       "      <th>4</th>\n",
       "      <td>2019-01-15</td>\n",
       "      <td>00:51:30</td>\n",
       "      <td>0.08</td>\n",
       "      <td>Deposit</td>\n",
       "      <td>Interest Paid</td>\n",
       "      <td>0</td>\n",
       "      <td>15</td>\n",
       "      <td>1</td>\n",
       "      <td>Interest</td>\n",
       "    </tr>\n",
       "  </tbody>\n",
       "</table>\n",
       "</div>"
      ],
      "text/plain": [
       "        Date      Time  Amount     Type      Description Whole_number  \\\n",
       "0 2019-02-15  00:08:00    0.12  Deposit    Interest Paid            0   \n",
       "1 2019-02-05  05:17:51   27.00  Deposit    VENMO CASHOUT            1   \n",
       "2 2019-02-04  06:32:21  325.46  Deposit  PAYPAL TRANSFER            0   \n",
       "3 2019-01-28  05:59:33  250.00  Deposit    VENMO CASHOUT            1   \n",
       "4 2019-01-15  00:51:30    0.08  Deposit    Interest Paid            0   \n",
       "\n",
       "   Day_of_month  Day_of_week Short_Description  \n",
       "0            15            4          Interest  \n",
       "1             5            1             VENMO  \n",
       "2             4            0            PAYPAL  \n",
       "3            28            0             VENMO  \n",
       "4            15            1          Interest  "
      ]
     },
     "execution_count": 306,
     "metadata": {},
     "output_type": "execute_result"
    }
   ],
   "source": [
    "all_deposits.head()"
   ]
  },
  {
   "cell_type": "markdown",
   "metadata": {},
   "source": [
    "Let’s see how much we reduced our number of descriptors."
   ]
  },
  {
   "cell_type": "code",
   "execution_count": 307,
   "metadata": {},
   "outputs": [
    {
     "data": {
      "image/png": "[encoded data removed]",
      "text/plain": [
       "<Figure size 432x288 with 1 Axes>"
      ]
     },
     "metadata": {
      "needs_background": "light"
     },
     "output_type": "display_data"
    }
   ],
   "source": [
    "y = [all_deposits.Description.nunique(),all_deposits.Short_Description.nunique()]\n",
    "x = ['Descriptor_before','Descriptor_after']\n",
    "plt.bar(x,y);"
   ]
  },
  {
   "cell_type": "markdown",
   "metadata": {},
   "source": [
    "We cut down this variable by nearly half"
   ]
  },
  {
   "cell_type": "code",
   "execution_count": 308,
   "metadata": {},
   "outputs": [
    {
     "data": {
      "text/html": [
       "<div>\n",
       "<style scoped>\n",
       "    .dataframe tbody tr th:only-of-type {\n",
       "        vertical-align: middle;\n",
       "    }\n",
       "\n",
       "    .dataframe tbody tr th {\n",
       "        vertical-align: top;\n",
       "    }\n",
       "\n",
       "    .dataframe thead th {\n",
       "        text-align: right;\n",
       "    }\n",
       "</style>\n",
       "<table border=\"1\" class=\"dataframe\">\n",
       "  <thead>\n",
       "    <tr style=\"text-align: right;\">\n",
       "      <th></th>\n",
       "      <th>Amount</th>\n",
       "      <th>Day_of_month</th>\n",
       "      <th>Day_of_week</th>\n",
       "    </tr>\n",
       "  </thead>\n",
       "  <tbody>\n",
       "    <tr>\n",
       "      <th>count</th>\n",
       "      <td>135.000000</td>\n",
       "      <td>135.000000</td>\n",
       "      <td>135.000000</td>\n",
       "    </tr>\n",
       "    <tr>\n",
       "      <th>mean</th>\n",
       "      <td>578.041037</td>\n",
       "      <td>13.748148</td>\n",
       "      <td>2.385185</td>\n",
       "    </tr>\n",
       "    <tr>\n",
       "      <th>std</th>\n",
       "      <td>1456.345828</td>\n",
       "      <td>8.040679</td>\n",
       "      <td>1.803749</td>\n",
       "    </tr>\n",
       "    <tr>\n",
       "      <th>min</th>\n",
       "      <td>0.010000</td>\n",
       "      <td>1.000000</td>\n",
       "      <td>0.000000</td>\n",
       "    </tr>\n",
       "    <tr>\n",
       "      <th>25%</th>\n",
       "      <td>10.795000</td>\n",
       "      <td>7.000000</td>\n",
       "      <td>1.000000</td>\n",
       "    </tr>\n",
       "    <tr>\n",
       "      <th>50%</th>\n",
       "      <td>65.000000</td>\n",
       "      <td>15.000000</td>\n",
       "      <td>2.000000</td>\n",
       "    </tr>\n",
       "    <tr>\n",
       "      <th>75%</th>\n",
       "      <td>515.850000</td>\n",
       "      <td>16.000000</td>\n",
       "      <td>4.000000</td>\n",
       "    </tr>\n",
       "    <tr>\n",
       "      <th>max</th>\n",
       "      <td>15000.000000</td>\n",
       "      <td>31.000000</td>\n",
       "      <td>6.000000</td>\n",
       "    </tr>\n",
       "  </tbody>\n",
       "</table>\n",
       "</div>"
      ],
      "text/plain": [
       "             Amount  Day_of_month  Day_of_week\n",
       "count    135.000000    135.000000   135.000000\n",
       "mean     578.041037     13.748148     2.385185\n",
       "std     1456.345828      8.040679     1.803749\n",
       "min        0.010000      1.000000     0.000000\n",
       "25%       10.795000      7.000000     1.000000\n",
       "50%       65.000000     15.000000     2.000000\n",
       "75%      515.850000     16.000000     4.000000\n",
       "max    15000.000000     31.000000     6.000000"
      ]
     },
     "execution_count": 308,
     "metadata": {},
     "output_type": "execute_result"
    }
   ],
   "source": [
    "all_deposits.describe()"
   ]
  },
  {
   "cell_type": "code",
   "execution_count": 309,
   "metadata": {},
   "outputs": [],
   "source": [
    "x_25 = np.percentile(all_deposits.Amount, 25)\n",
    "x_50 = np.percentile(all_deposits.Amount, 50)\n",
    "x_75 = np.percentile(all_deposits.Amount, 75)\n",
    "max_ = max(all_deposits.Amount)"
   ]
  },
  {
   "cell_type": "code",
   "execution_count": 310,
   "metadata": {},
   "outputs": [],
   "source": [
    "# bin amount data\n",
    "def binAmount(x):\n",
    "    \n",
    "    x_25 = np.percentile(all_deposits.Amount, 25)\n",
    "    x_50 = np.percentile(all_deposits.Amount, 50)\n",
    "    x_75 = np.percentile(all_deposits.Amount, 75)\n",
    "    max_ = max(all_deposits.Amount)\n",
    "    \n",
    "    if x < x_25:\n",
    "        return 'low'\n",
    "    elif (x >= x_25) & (x < x_50):\n",
    "        return 'mid1'\n",
    "    elif (x >= x_50) & (x < x_75):\n",
    "        return 'mid2'\n",
    "    elif (x >= x_75) & (x <= max_):\n",
    "        return 'high'"
   ]
  },
  {
   "cell_type": "code",
   "execution_count": 311,
   "metadata": {},
   "outputs": [
    {
     "data": {
      "text/html": [
       "<div>\n",
       "<style scoped>\n",
       "    .dataframe tbody tr th:only-of-type {\n",
       "        vertical-align: middle;\n",
       "    }\n",
       "\n",
       "    .dataframe tbody tr th {\n",
       "        vertical-align: top;\n",
       "    }\n",
       "\n",
       "    .dataframe thead th {\n",
       "        text-align: right;\n",
       "    }\n",
       "</style>\n",
       "<table border=\"1\" class=\"dataframe\">\n",
       "  <thead>\n",
       "    <tr style=\"text-align: right;\">\n",
       "      <th></th>\n",
       "      <th>Date</th>\n",
       "      <th>Time</th>\n",
       "      <th>Amount</th>\n",
       "      <th>Type</th>\n",
       "      <th>Description</th>\n",
       "      <th>Whole_number</th>\n",
       "      <th>Day_of_month</th>\n",
       "      <th>Day_of_week</th>\n",
       "      <th>Short_Description</th>\n",
       "      <th>binned_amount</th>\n",
       "    </tr>\n",
       "  </thead>\n",
       "  <tbody>\n",
       "    <tr>\n",
       "      <th>0</th>\n",
       "      <td>2019-02-15</td>\n",
       "      <td>00:08:00</td>\n",
       "      <td>0.12</td>\n",
       "      <td>Deposit</td>\n",
       "      <td>Interest Paid</td>\n",
       "      <td>0</td>\n",
       "      <td>15</td>\n",
       "      <td>4</td>\n",
       "      <td>Interest</td>\n",
       "      <td>low</td>\n",
       "    </tr>\n",
       "    <tr>\n",
       "      <th>1</th>\n",
       "      <td>2019-02-05</td>\n",
       "      <td>05:17:51</td>\n",
       "      <td>27.00</td>\n",
       "      <td>Deposit</td>\n",
       "      <td>VENMO CASHOUT</td>\n",
       "      <td>1</td>\n",
       "      <td>5</td>\n",
       "      <td>1</td>\n",
       "      <td>VENMO</td>\n",
       "      <td>mid1</td>\n",
       "    </tr>\n",
       "    <tr>\n",
       "      <th>2</th>\n",
       "      <td>2019-02-04</td>\n",
       "      <td>06:32:21</td>\n",
       "      <td>325.46</td>\n",
       "      <td>Deposit</td>\n",
       "      <td>PAYPAL TRANSFER</td>\n",
       "      <td>0</td>\n",
       "      <td>4</td>\n",
       "      <td>0</td>\n",
       "      <td>PAYPAL</td>\n",
       "      <td>mid2</td>\n",
       "    </tr>\n",
       "    <tr>\n",
       "      <th>3</th>\n",
       "      <td>2019-01-28</td>\n",
       "      <td>05:59:33</td>\n",
       "      <td>250.00</td>\n",
       "      <td>Deposit</td>\n",
       "      <td>VENMO CASHOUT</td>\n",
       "      <td>1</td>\n",
       "      <td>28</td>\n",
       "      <td>0</td>\n",
       "      <td>VENMO</td>\n",
       "      <td>mid2</td>\n",
       "    </tr>\n",
       "    <tr>\n",
       "      <th>4</th>\n",
       "      <td>2019-01-15</td>\n",
       "      <td>00:51:30</td>\n",
       "      <td>0.08</td>\n",
       "      <td>Deposit</td>\n",
       "      <td>Interest Paid</td>\n",
       "      <td>0</td>\n",
       "      <td>15</td>\n",
       "      <td>1</td>\n",
       "      <td>Interest</td>\n",
       "      <td>low</td>\n",
       "    </tr>\n",
       "  </tbody>\n",
       "</table>\n",
       "</div>"
      ],
      "text/plain": [
       "        Date      Time  Amount     Type      Description Whole_number  \\\n",
       "0 2019-02-15  00:08:00    0.12  Deposit    Interest Paid            0   \n",
       "1 2019-02-05  05:17:51   27.00  Deposit    VENMO CASHOUT            1   \n",
       "2 2019-02-04  06:32:21  325.46  Deposit  PAYPAL TRANSFER            0   \n",
       "3 2019-01-28  05:59:33  250.00  Deposit    VENMO CASHOUT            1   \n",
       "4 2019-01-15  00:51:30    0.08  Deposit    Interest Paid            0   \n",
       "\n",
       "   Day_of_month  Day_of_week Short_Description binned_amount  \n",
       "0            15            4          Interest           low  \n",
       "1             5            1             VENMO          mid1  \n",
       "2             4            0            PAYPAL          mid2  \n",
       "3            28            0             VENMO          mid2  \n",
       "4            15            1          Interest           low  "
      ]
     },
     "execution_count": 311,
     "metadata": {},
     "output_type": "execute_result"
    }
   ],
   "source": [
    "all_deposits['binned_amount'] = all_deposits.Amount.apply(binAmount)\n",
    "all_deposits.head()"
   ]
  },
  {
   "cell_type": "markdown",
   "metadata": {},
   "source": [
    "Let’s prepare to cluster deposits using k-means model"
   ]
  },
  {
   "cell_type": "code",
   "execution_count": 312,
   "metadata": {},
   "outputs": [],
   "source": [
    "# factorize columns that are integers\n",
    "all_deposits['Day_of_month'] = all_deposits['Day_of_month'].astype(object)\n",
    "all_deposits['Day_of_week'] = all_deposits['Day_of_week'].astype(object)"
   ]
  },
  {
   "cell_type": "code",
   "execution_count": 261,
   "metadata": {},
   "outputs": [
    {
     "data": {
      "text/html": [
       "<div>\n",
       "<style scoped>\n",
       "    .dataframe tbody tr th:only-of-type {\n",
       "        vertical-align: middle;\n",
       "    }\n",
       "\n",
       "    .dataframe tbody tr th {\n",
       "        vertical-align: top;\n",
       "    }\n",
       "\n",
       "    .dataframe thead th {\n",
       "        text-align: right;\n",
       "    }\n",
       "</style>\n",
       "<table border=\"1\" class=\"dataframe\">\n",
       "  <thead>\n",
       "    <tr style=\"text-align: right;\">\n",
       "      <th></th>\n",
       "      <th>binned_amount</th>\n",
       "      <th>Whole_number</th>\n",
       "      <th>Day_of_month</th>\n",
       "      <th>Day_of_week</th>\n",
       "      <th>Short_Description</th>\n",
       "    </tr>\n",
       "  </thead>\n",
       "  <tbody>\n",
       "    <tr>\n",
       "      <th>0</th>\n",
       "      <td>low</td>\n",
       "      <td>0</td>\n",
       "      <td>15</td>\n",
       "      <td>4</td>\n",
       "      <td>InterestPaid</td>\n",
       "    </tr>\n",
       "    <tr>\n",
       "      <th>1</th>\n",
       "      <td>mid1</td>\n",
       "      <td>1</td>\n",
       "      <td>5</td>\n",
       "      <td>1</td>\n",
       "      <td>VENMOCASHOUT</td>\n",
       "    </tr>\n",
       "    <tr>\n",
       "      <th>2</th>\n",
       "      <td>mid2</td>\n",
       "      <td>0</td>\n",
       "      <td>4</td>\n",
       "      <td>0</td>\n",
       "      <td>PAYPALTRANSFER</td>\n",
       "    </tr>\n",
       "    <tr>\n",
       "      <th>3</th>\n",
       "      <td>mid2</td>\n",
       "      <td>1</td>\n",
       "      <td>28</td>\n",
       "      <td>0</td>\n",
       "      <td>VENMOCASHOUT</td>\n",
       "    </tr>\n",
       "    <tr>\n",
       "      <th>4</th>\n",
       "      <td>low</td>\n",
       "      <td>0</td>\n",
       "      <td>15</td>\n",
       "      <td>1</td>\n",
       "      <td>InterestPaid</td>\n",
       "    </tr>\n",
       "  </tbody>\n",
       "</table>\n",
       "</div>"
      ],
      "text/plain": [
       "  binned_amount Whole_number Day_of_month Day_of_week Short_Description\n",
       "0           low            0           15           4      InterestPaid\n",
       "1          mid1            1            5           1      VENMOCASHOUT\n",
       "2          mid2            0            4           0    PAYPALTRANSFER\n",
       "3          mid2            1           28           0      VENMOCASHOUT\n",
       "4           low            0           15           1      InterestPaid"
      ]
     },
     "execution_count": 261,
     "metadata": {},
     "output_type": "execute_result"
    }
   ],
   "source": [
    "cols = ['binned_amount','Whole_number', 'Day_of_month', 'Day_of_week', 'Short_Description']\n",
    "model_data = all_deposits[cols]\n",
    "model_data.head()"
   ]
  },
  {
   "cell_type": "markdown",
   "metadata": {},
   "source": [
    "I decided to bin the amount data so I would have all categorical features. This made more sense than trying to wrangle with k-means and dummy variables, especially because of the high number of levels. So I chose kModes which deals exclusively with categorical data."
   ]
  },
  {
   "cell_type": "code",
   "execution_count": 262,
   "metadata": {},
   "outputs": [
    {
     "name": "stdout",
     "output_type": "stream",
     "text": [
      "Init: initializing centroids\n",
      "Init: initializing clusters\n",
      "Starting iterations...\n",
      "Run 1, iteration: 1/100, moves: 19, cost: 265.0\n",
      "Run 1, iteration: 2/100, moves: 0, cost: 265.0\n",
      "Init: initializing centroids\n",
      "Init: initializing clusters\n",
      "Starting iterations...\n",
      "Run 2, iteration: 1/100, moves: 34, cost: 276.0\n",
      "Run 2, iteration: 2/100, moves: 10, cost: 276.0\n",
      "Init: initializing centroids\n",
      "Init: initializing clusters\n",
      "Starting iterations...\n",
      "Run 3, iteration: 1/100, moves: 32, cost: 253.0\n",
      "Run 3, iteration: 2/100, moves: 0, cost: 253.0\n",
      "Init: initializing centroids\n",
      "Init: initializing clusters\n",
      "Starting iterations...\n",
      "Run 4, iteration: 1/100, moves: 31, cost: 258.0\n",
      "Run 4, iteration: 2/100, moves: 24, cost: 258.0\n",
      "Init: initializing centroids\n",
      "Init: initializing clusters\n",
      "Starting iterations...\n",
      "Run 5, iteration: 1/100, moves: 38, cost: 276.0\n",
      "Run 5, iteration: 2/100, moves: 8, cost: 275.0\n",
      "Run 5, iteration: 3/100, moves: 0, cost: 275.0\n",
      "Best run was number 3\n",
      "[['mid2' '1' '22' '0' 'PAYPALTRANSFER']\n",
      " ['low' '0' '15' '1' 'InterestPaid']\n",
      " ['high' '1' '3' '4' 'Internettransfer']\n",
      " ['high' '0' '9' '4' 'CARDIONETINC']\n",
      " ['mid1' '0' '15' '2' 'InterestPaid']\n",
      " ['low' '1' '15' '1' 'VENMOCASHOUT']]\n"
     ]
    }
   ],
   "source": [
    "from kmodes.kmodes import KModes\n",
    "\n",
    "km = KModes(n_clusters=6, init='Huang', n_init=5, verbose=1)\n",
    "\n",
    "clusters = km.fit_predict(model_data)\n",
    "\n",
    "# Print the cluster centroids\n",
    "print(km.cluster_centroids_)"
   ]
  },
  {
   "cell_type": "code",
   "execution_count": 263,
   "metadata": {},
   "outputs": [
    {
     "name": "stdout",
     "output_type": "stream",
     "text": [
      "[['mid2' '1' '22' '0' 'PAYPALTRANSFER']\n",
      " ['low' '0' '15' '1' 'InterestPaid']\n",
      " ['high' '1' '3' '4' 'Internettransfer']\n",
      " ['high' '0' '9' '4' 'CARDIONETINC']\n",
      " ['mid1' '0' '15' '2' 'InterestPaid']\n",
      " ['low' '1' '15' '1' 'VENMOCASHOUT']]\n"
     ]
    }
   ],
   "source": [
    "print(km.cluster_centroids_)"
   ]
  },
  {
   "cell_type": "code",
   "execution_count": 264,
   "metadata": {},
   "outputs": [
    {
     "name": "stderr",
     "output_type": "stream",
     "text": [
      "/Users/camilletoarmino/anaconda3/lib/python3.7/site-packages/ipykernel_launcher.py:1: SettingWithCopyWarning: \n",
      "A value is trying to be set on a copy of a slice from a DataFrame.\n",
      "Try using .loc[row_indexer,col_indexer] = value instead\n",
      "\n",
      "See the caveats in the documentation: http://pandas.pydata.org/pandas-docs/stable/indexing.html#indexing-view-versus-copy\n",
      "  \"\"\"Entry point for launching an IPython kernel.\n"
     ]
    }
   ],
   "source": [
    "model_data['cluster_labels'] = km.labels_"
   ]
  },
  {
   "cell_type": "code",
   "execution_count": 266,
   "metadata": {},
   "outputs": [
    {
     "data": {
      "text/plain": [
       "cluster_labels  Short_Description    \n",
       "0               PAYPALTRANSFER           17\n",
       "                VENMOCASHOUT              6\n",
       "                VENMOCASHOUT~             3\n",
       "                PAYPALTRANSFER~           2\n",
       "                eCheckDeposit             2\n",
       "                FRANCHISETAX              1\n",
       "                IRS                       1\n",
       "                NYSTATE                   1\n",
       "                ROBINHOOD(CRFN)           1\n",
       "1               InterestPaid             19\n",
       "                AIRBNBPAYMENTS            5\n",
       "                ATMFee                    3\n",
       "                PAYPALVERIFYBANK          2\n",
       "                VANGUARDEDI               2\n",
       "                VENMOVERIFYBAN            2\n",
       "                eCheckDeposit             2\n",
       "                eRentVerify8668525366     2\n",
       "                ROBINHOOD(CRFN)           1\n",
       "                VENMOCASHOUT              1\n",
       "                VENMOCASHOUT~             1\n",
       "2               Internettransfer         10\n",
       "                Requestedtransfer         3\n",
       "                CARDIONETLLC              1\n",
       "                ROBINHOOD(CRFN)           1\n",
       "                VENMOCASHOUT              1\n",
       "3               CARDIONETINC              6\n",
       "                CARDIONETLLC              5\n",
       "                eCheckDeposit             3\n",
       "                PAYPALTRANSFER            1\n",
       "4               InterestPaid             15\n",
       "                eCheckDeposit             3\n",
       "                AIRBNBPAYMENTS            1\n",
       "                PAYPALTRANSFER            1\n",
       "                PAYPALTRANSFER~           1\n",
       "5               VENMOCASHOUT              7\n",
       "                ATMFee                    2\n",
       "Name: Short_Description, dtype: int64"
      ]
     },
     "execution_count": 266,
     "metadata": {},
     "output_type": "execute_result"
    }
   ],
   "source": [
    "model_data.groupby('cluster_labels')['Short_Description'].value_counts()"
   ]
  },
  {
   "cell_type": "markdown",
   "metadata": {},
   "source": [
    "Cluster number 3 contains 91% of job income from one job"
   ]
  }
 ],
 "metadata": {
  "kernelspec": {
   "display_name": "Python 3",
   "language": "python",
   "name": "python3"
  },
  "language_info": {
   "codemirror_mode": {
    "name": "ipython",
    "version": 3
   },
   "file_extension": ".py",
   "mimetype": "text/x-python",
   "name": "python",
   "nbconvert_exporter": "python",
   "pygments_lexer": "ipython3",
   "version": "3.7.1"
  }
 },
 "nbformat": 4,
 "nbformat_minor": 2
}
